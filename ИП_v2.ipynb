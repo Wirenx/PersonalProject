{
  "nbformat": 4,
  "nbformat_minor": 0,
  "metadata": {
    "colab": {
      "provenance": [],
      "collapsed_sections": [
        "ulkMWgp1jiH6",
        "5Y5VBRwHhwnc",
        "KV0_yK9LhKEX",
        "-jz7pMyKhdw8",
        "dBIYNDF-hqCb"
      ],
      "authorship_tag": "ABX9TyNVt4LktquKvldKYakghxU+",
      "include_colab_link": true
    },
    "kernelspec": {
      "name": "python3",
      "display_name": "Python 3"
    },
    "language_info": {
      "name": "python"
    }
  },
  "cells": [
    {
      "cell_type": "markdown",
      "metadata": {
        "id": "view-in-github",
        "colab_type": "text"
      },
      "source": [
        "<a href=\"https://colab.research.google.com/github/Wirenx/PersonalProject/blob/main/%D0%98%D0%9F_v2.ipynb\" target=\"_parent\"><img src=\"https://colab.research.google.com/assets/colab-badge.svg\" alt=\"Open In Colab\"/></a>"
      ]
    },
    {
      "cell_type": "markdown",
      "source": [
        "#ПОДКЛЮЧАЕМ БИБЛИОТЕКИ\n"
      ],
      "metadata": {
        "id": "ulkMWgp1jiH6"
      }
    },
    {
      "cell_type": "code",
      "execution_count": null,
      "metadata": {
        "id": "xsmjbWnC5F3S"
      },
      "outputs": [],
      "source": [
        "import numpy as np\n",
        "from matplotlib import pyplot as plt\n",
        "import torchvision\n",
        "\n",
        "qtrain = torchvision.datasets.QMNIST('_qmnist', train=True, download=True)\n",
        "qtest = torchvision.datasets.QMNIST('_qmnist',what='test10k', download=True)"
      ]
    },
    {
      "cell_type": "markdown",
      "source": [
        "#ПОЛУЧЕНИЕ ДАННЫХ"
      ],
      "metadata": {
        "id": "5Y5VBRwHhwnc"
      }
    },
    {
      "cell_type": "code",
      "source": [
        "y_test = []\n",
        "x_test = []\n",
        "\n",
        "for i in range(len(qtest)):\n",
        "  img = qtest[i][0]\n",
        "  y_test.append(qtest[i][1])\n",
        "  rawData = img.load()\n",
        "  data = []\n",
        "  for y1 in range(28):\n",
        "    for x1 in range(28):\n",
        "      data.append(rawData[x1,y1])\n",
        "  data=np.asarray(data)\n",
        "  x_test.append(data)\n",
        "x_test = np.array(x_test).T\n",
        "y_test = np.array(y_test)\n",
        "\n",
        "x_test = x_test/255\n",
        "n,m = x_test.shape"
      ],
      "metadata": {
        "id": "dmwohsVOHBRd"
      },
      "execution_count": null,
      "outputs": []
    },
    {
      "cell_type": "code",
      "source": [
        "y_train = []\n",
        "x_train = []\n",
        "\n",
        "for i in range(len(qtrain)):\n",
        "  img = qtrain[i][0]\n",
        "  y_train.append(qtrain[i][1])\n",
        "  rawData = img.load()\n",
        "  data = []\n",
        "  for y1 in range(28):\n",
        "    for x1 in range(28):\n",
        "      data.append(rawData[x1,y1])\n",
        "  data=np.asarray(data)\n",
        "  x_train.append(data)\n",
        "x_train = np.array(x_train).T\n",
        "y_train = np.array(y_train)\n",
        "\n",
        "x_train = x_train/255\n",
        "_,m_train = x_train.shape"
      ],
      "metadata": {
        "id": "JpzUi9UdEzV0"
      },
      "execution_count": null,
      "outputs": []
    },
    {
      "cell_type": "markdown",
      "source": [
        "#ОПРЕДЕЛЕНИЕ ПРЕДСКАЗАНИЯ"
      ],
      "metadata": {
        "id": "KV0_yK9LhKEX"
      }
    },
    {
      "cell_type": "code",
      "source": [
        "def init_params():\n",
        "    W1 = np.random.rand(10, 784) - 0.5 # HIDDEN , INPUT\n",
        "    b1 = np.random.rand(10, 1) - 0.5 # HIDDEN , 1\n",
        "    W2 = np.random.rand(10, 10) - 0.5 # OUTPUT , HIDDEN\n",
        "    b2 = np.random.rand(10, 1) - 0.5 # OUTPUT , 1\n",
        "    return W1, b1, W2, b2\n",
        "\n",
        "def ReLU(Z): # ФУНКЦИЯ АКТИВАЦИИ\n",
        "    return np.maximum(Z, 0)\n",
        "\n",
        "def softmax(Z): # ПРИВЕДЕНИЕ РЕЗУЛЬТАТОВ К РАЗМЕРУ 0<_<1\n",
        "    A = np.exp(Z) / sum(np.exp(Z))\n",
        "    return A\n",
        "\n",
        "def forward_prop(W1, b1, W2, b2, X): # ПРЯМОЙ ПРОХОД - ВЫЧИСЛЕНИЕ РЕЗУЛЬТАТА\n",
        "    Z1 = W1.dot(X) + b1\n",
        "    A1 = ReLU(Z1)\n",
        "    Z2 = W2.dot(A1) + b2\n",
        "    A2 = softmax(Z2)\n",
        "    return Z1, A1, Z2, A2\n"
      ],
      "metadata": {
        "id": "fZXhpVFp5ULn"
      },
      "execution_count": null,
      "outputs": []
    },
    {
      "cell_type": "markdown",
      "source": [
        "#ПРОЦЕСС ОБУЧЕНИЯ"
      ],
      "metadata": {
        "id": "-jz7pMyKhdw8"
      }
    },
    {
      "cell_type": "code",
      "source": [
        "def ReLU_deriv(Z): # ПРОИЗВОДНАЯ ReLU\n",
        "    return Z > 0\n",
        "\n",
        "def one_hot(Y): # ВЕРНЫЙ ОТВЕТ ВИДА [0,0,0,0,0,0,1,0,0,0] -> 6\n",
        "    one_hot_Y = np.zeros((Y.size, Y.max() + 1))\n",
        "    one_hot_Y[np.arange(Y.size), Y] = 1\n",
        "    one_hot_Y = one_hot_Y.T\n",
        "    return one_hot_Y\n",
        "\n",
        "def backward_prop(Z1, A1, Z2, A2, W1, W2, X, Y): # ОБРАТНЫЙ ПРОХОД ИЛИ ВЫЧИСЛЕНИЕ ИЗМЕНЕНИЯ ВЕСОВ\n",
        "    one_hot_Y = one_hot(Y)\n",
        "    dZ2 = A2 - one_hot_Y\n",
        "    dW2 = 1 / m * dZ2.dot(A1.T)\n",
        "    db2 = 1 / m * np.sum(dZ2)\n",
        "    dZ1 = W2.T.dot(dZ2) * ReLU_deriv(Z1)\n",
        "    dW1 = 1 / m * dZ1.dot(X.T)\n",
        "    db1 = 1 / m * np.sum(dZ1)\n",
        "    return dW1, db1, dW2, db2"
      ],
      "metadata": {
        "id": "IR712BWNeqJ_"
      },
      "execution_count": null,
      "outputs": []
    },
    {
      "cell_type": "code",
      "source": [
        "def update_params(W1, b1, W2, b2, dW1, db1, dW2, db2, alpha): # ОБНОВЛЕНИЕ ПАРАМЕТРОВ ВЕСОВ\n",
        "    W1 = W1 - alpha * dW1\n",
        "    b1 = b1 - alpha * db1\n",
        "    W2 = W2 - alpha * dW2\n",
        "    b2 = b2 - alpha * db2\n",
        "    return W1, b1, W2, b2"
      ],
      "metadata": {
        "id": "KZ4_KiRher-F"
      },
      "execution_count": null,
      "outputs": []
    },
    {
      "cell_type": "code",
      "source": [
        "def get_predictions(A2): # ПОЛУЧЕНИЕ ОТВЕТА\n",
        "    return np.argmax(A2, 0)\n",
        "\n",
        "def get_accuracy(predictions, Y): # ИЗМЕРЯЕМ ТОЧНОСТЬ\n",
        "    print(predictions, Y)\n",
        "    return np.sum(predictions == Y) / Y.size\n",
        "\n",
        "def gradient_descent(X, Y, alpha, iterations): # ГРАДИЕНТНЫЙ СПУСК ИЛИ ПРОЦЕСС ОБУЧЕНИЯ\n",
        "    W1, b1, W2, b2 = init_params()\n",
        "    for i in range(iterations):\n",
        "        Z1, A1, Z2, A2 = forward_prop(W1, b1, W2, b2, X)\n",
        "        dW1, db1, dW2, db2 = backward_prop(Z1, A1, Z2, A2, W1, W2, X, Y)\n",
        "        W1, b1, W2, b2 = update_params(W1, b1, W2, b2, dW1, db1, dW2, db2, alpha)\n",
        "        if i % 100 == 0:\n",
        "            print(\"Iteration: \", i)\n",
        "            predictions = get_predictions(A2)\n",
        "            print(get_accuracy(predictions, Y))\n",
        "    return W1, b1, W2, b2"
      ],
      "metadata": {
        "id": "SmnQXx4B5bg4"
      },
      "execution_count": null,
      "outputs": []
    },
    {
      "cell_type": "code",
      "source": [
        "alpha = 0.05\n",
        "epoches = 1500"
      ],
      "metadata": {
        "id": "NQO54Y-kk90a"
      },
      "execution_count": null,
      "outputs": []
    },
    {
      "cell_type": "code",
      "source": [
        "W1, b1, W2, b2 = gradient_descent(x_train, y_train, alpha, epoches)"
      ],
      "metadata": {
        "id": "Jo5foT_S5lWp"
      },
      "execution_count": null,
      "outputs": []
    },
    {
      "cell_type": "markdown",
      "source": [
        "#ГОТВАЯ НЕЙРОСЕТЬ\n"
      ],
      "metadata": {
        "id": "dBIYNDF-hqCb"
      }
    },
    {
      "cell_type": "code",
      "source": [
        "def make_predictions(X, W1, b1, W2, b2):\n",
        "    _, _, _, A2 = forward_prop(W1, b1, W2, b2, X)\n",
        "    predictions = get_predictions(A2)\n",
        "    return predictions\n",
        "\n",
        "def test_prediction(index, W1, b1, W2, b2):\n",
        "    current_image = x_test[:, index, None]\n",
        "    prediction = make_predictions(x_test[:, index, None], W1, b1, W2, b2)\n",
        "    label = y_test[index]\n",
        "    print(\"Prediction: \", prediction)\n",
        "    print(\"Label: \", label)\n",
        "\n",
        "    current_image = current_image.reshape((28, 28)) * 255\n",
        "    plt.gray()\n",
        "    plt.imshow(current_image, interpolation='nearest')\n",
        "    plt.show()"
      ],
      "metadata": {
        "id": "Pe8OHZs35luA"
      },
      "execution_count": null,
      "outputs": []
    },
    {
      "cell_type": "code",
      "source": [
        "from random import randint\n",
        "\n",
        "test_prediction(randint(0, len(x_test)), W1, b1, W2, b2)\n",
        "test_prediction(randint(0, len(x_test)), W1, b1, W2, b2)\n",
        "test_prediction(randint(0, len(x_test)), W1, b1, W2, b2)\n",
        "test_prediction(randint(0, len(x_test)), W1, b1, W2, b2)"
      ],
      "metadata": {
        "id": "u_PV6OqQ5pmh",
        "colab": {
          "base_uri": "https://localhost:8080/",
          "height": 1000
        },
        "outputId": "9cc73c5b-2af5-47cd-c092-e02b1969c78c"
      },
      "execution_count": null,
      "outputs": [
        {
          "output_type": "stream",
          "name": "stdout",
          "text": [
            "Prediction:  [6]\n",
            "Label:  6\n"
          ]
        },
        {
          "output_type": "display_data",
          "data": {
            "text/plain": [
              "<Figure size 640x480 with 1 Axes>"
            ],
            "image/png": "[encoded data removed]"
          },
          "metadata": {}
        },
        {
          "output_type": "stream",
          "name": "stdout",
          "text": [
            "Prediction:  [7]\n",
            "Label:  7\n"
          ]
        },
        {
          "output_type": "display_data",
          "data": {
            "text/plain": [
              "<Figure size 640x480 with 1 Axes>"
            ],
            "image/png": "[encoded data removed]"
          },
          "metadata": {}
        },
        {
          "output_type": "stream",
          "name": "stdout",
          "text": [
            "Prediction:  [0]\n",
            "Label:  8\n"
          ]
        },
        {
          "output_type": "display_data",
          "data": {
            "text/plain": [
              "<Figure size 640x480 with 1 Axes>"
            ],
            "image/png": "[encoded data removed]"
          },
          "metadata": {}
        },
        {
          "output_type": "stream",
          "name": "stdout",
          "text": [
            "Prediction:  [9]\n",
            "Label:  9\n"
          ]
        },
        {
          "output_type": "display_data",
          "data": {
            "text/plain": [
              "<Figure size 640x480 with 1 Axes>"
            ],
            "image/png": "[encoded data removed]"
          },
          "metadata": {}
        }
      ]
    }
  ]
}